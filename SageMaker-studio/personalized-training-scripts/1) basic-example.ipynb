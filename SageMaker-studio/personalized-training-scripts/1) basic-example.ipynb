{
 "cells": [
  {
   "cell_type": "code",
   "execution_count": 22,
   "metadata": {},
   "outputs": [],
   "source": [
    "from sagemaker.pytorch import PyTorch\n",
    "from sagemaker import get_execution_role"
   ]
  },
  {
   "cell_type": "code",
   "execution_count": 23,
   "metadata": {},
   "outputs": [],
   "source": [
    "hyperparameters = {\"epochs\": \"2\", \"batch-size\": \"32\", \"test-batch-size\": \"100\", \"lr\": \"0.001\"}\n",
    "\n",
    "estimator = PyTorch(\n",
    "    entry_point=\"scripts/pytorch_cifar.py\",\n",
    "    base_job_name=\"sagemaker-script-mode\",\n",
    "    role=get_execution_role(),\n",
    "    instance_count=1,\n",
    "    instance_type=\"ml.m5.large\",\n",
    "    hyperparameters=hyperparameters,\n",
    "    framework_version=\"1.8\",\n",
    "    py_version=\"py36\",\n",
    ")"
   ]
  },
  {
   "cell_type": "code",
   "execution_count": 24,
   "metadata": {},
   "outputs": [
    {
     "name": "stdout",
     "output_type": "stream",
     "text": [
      "2021-11-30 22:01:46 Starting - Starting the training job...ProfilerReport-1638309706: InProgress\n",
      "...\n",
      "2021-11-30 22:02:32 Starting - Launching requested ML instances......\n",
      "2021-11-30 22:03:35 Starting - Preparing the instances for training.........\n",
      "2021-11-30 22:05:15 Downloading - Downloading input data...\n",
      "2021-11-30 22:05:41 Training - Downloading the training image.....\u001b[34mbash: cannot set terminal process group (-1): Inappropriate ioctl for device\u001b[0m\n",
      "\u001b[34mbash: no job control in this shell\u001b[0m\n",
      "\u001b[34m2021-11-30 22:06:24,385 sagemaker-training-toolkit INFO     Imported framework sagemaker_pytorch_container.training\u001b[0m\n",
      "\u001b[34m2021-11-30 22:06:24,387 sagemaker-training-toolkit INFO     No GPUs detected (normal if no gpus installed)\u001b[0m\n",
      "\u001b[34m2021-11-30 22:06:24,396 sagemaker_pytorch_container.training INFO     Block until all host DNS lookups succeed.\u001b[0m\n",
      "\u001b[34m2021-11-30 22:06:25,022 sagemaker_pytorch_container.training INFO     Invoking user training script.\u001b[0m\n",
      "\u001b[34m2021-11-30 22:06:25,312 sagemaker-training-toolkit INFO     No GPUs detected (normal if no gpus installed)\u001b[0m\n",
      "\u001b[34m2021-11-30 22:06:25,322 sagemaker-training-toolkit INFO     No GPUs detected (normal if no gpus installed)\u001b[0m\n",
      "\u001b[34m2021-11-30 22:06:25,332 sagemaker-training-toolkit INFO     No GPUs detected (normal if no gpus installed)\u001b[0m\n",
      "\u001b[34m2021-11-30 22:06:25,341 sagemaker-training-toolkit INFO     Invoking user script\u001b[0m\n",
      "\u001b[34mTraining Env:\u001b[0m\n",
      "\u001b[34m{\n",
      "    \"additional_framework_parameters\": {},\n",
      "    \"channel_input_dirs\": {},\n",
      "    \"current_host\": \"algo-1\",\n",
      "    \"framework_module\": \"sagemaker_pytorch_container.training:main\",\n",
      "    \"hosts\": [\n",
      "        \"algo-1\"\n",
      "    ],\n",
      "    \"hyperparameters\": {\n",
      "        \"batch-size\": \"32\",\n",
      "        \"test-batch-size\": \"100\",\n",
      "        \"lr\": \"0.001\",\n",
      "        \"epochs\": \"2\"\n",
      "    },\n",
      "    \"input_config_dir\": \"/opt/ml/input/config\",\n",
      "    \"input_data_config\": {},\n",
      "    \"input_dir\": \"/opt/ml/input\",\n",
      "    \"is_master\": true,\n",
      "    \"job_name\": \"sagemaker-script-mode-2021-11-30-22-01-46-262\",\n",
      "    \"log_level\": 20,\n",
      "    \"master_hostname\": \"algo-1\",\n",
      "    \"model_dir\": \"/opt/ml/model\",\n",
      "    \"module_dir\": \"s3://sagemaker-us-east-1-678049007427/sagemaker-script-mode-2021-11-30-22-01-46-262/source/sourcedir.tar.gz\",\n",
      "    \"module_name\": \"pytorch_cifar\",\n",
      "    \"network_interface_name\": \"eth0\",\n",
      "    \"num_cpus\": 2,\n",
      "    \"num_gpus\": 0,\n",
      "    \"output_data_dir\": \"/opt/ml/output/data\",\n",
      "    \"output_dir\": \"/opt/ml/output\",\n",
      "    \"output_intermediate_dir\": \"/opt/ml/output/intermediate\",\n",
      "    \"resource_config\": {\n",
      "        \"current_host\": \"algo-1\",\n",
      "        \"hosts\": [\n",
      "            \"algo-1\"\n",
      "        ],\n",
      "        \"network_interface_name\": \"eth0\"\n",
      "    },\n",
      "    \"user_entry_point\": \"pytorch_cifar.py\"\u001b[0m\n",
      "\u001b[34m}\u001b[0m\n",
      "\u001b[34mEnvironment variables:\u001b[0m\n",
      "\u001b[34mSM_HOSTS=[\"algo-1\"]\u001b[0m\n",
      "\u001b[34mSM_NETWORK_INTERFACE_NAME=eth0\u001b[0m\n",
      "\u001b[34mSM_HPS={\"batch-size\":\"32\",\"epochs\":\"2\",\"lr\":\"0.001\",\"test-batch-size\":\"100\"}\u001b[0m\n",
      "\u001b[34mSM_USER_ENTRY_POINT=pytorch_cifar.py\u001b[0m\n",
      "\u001b[34mSM_FRAMEWORK_PARAMS={}\u001b[0m\n",
      "\u001b[34mSM_RESOURCE_CONFIG={\"current_host\":\"algo-1\",\"hosts\":[\"algo-1\"],\"network_interface_name\":\"eth0\"}\u001b[0m\n",
      "\u001b[34mSM_INPUT_DATA_CONFIG={}\u001b[0m\n",
      "\u001b[34mSM_OUTPUT_DATA_DIR=/opt/ml/output/data\u001b[0m\n",
      "\u001b[34mSM_CHANNELS=[]\u001b[0m\n",
      "\u001b[34mSM_CURRENT_HOST=algo-1\u001b[0m\n",
      "\u001b[34mSM_MODULE_NAME=pytorch_cifar\u001b[0m\n",
      "\u001b[34mSM_LOG_LEVEL=20\u001b[0m\n",
      "\u001b[34mSM_FRAMEWORK_MODULE=sagemaker_pytorch_container.training:main\u001b[0m\n",
      "\u001b[34mSM_INPUT_DIR=/opt/ml/input\u001b[0m\n",
      "\u001b[34mSM_INPUT_CONFIG_DIR=/opt/ml/input/config\u001b[0m\n",
      "\u001b[34mSM_OUTPUT_DIR=/opt/ml/output\u001b[0m\n",
      "\u001b[34mSM_NUM_CPUS=2\u001b[0m\n",
      "\u001b[34mSM_NUM_GPUS=0\u001b[0m\n",
      "\u001b[34mSM_MODEL_DIR=/opt/ml/model\u001b[0m\n",
      "\u001b[34mSM_MODULE_DIR=s3://sagemaker-us-east-1-678049007427/sagemaker-script-mode-2021-11-30-22-01-46-262/source/sourcedir.tar.gz\u001b[0m\n",
      "\u001b[34mSM_TRAINING_ENV={\"additional_framework_parameters\":{},\"channel_input_dirs\":{},\"current_host\":\"algo-1\",\"framework_module\":\"sagemaker_pytorch_container.training:main\",\"hosts\":[\"algo-1\"],\"hyperparameters\":{\"batch-size\":\"32\",\"epochs\":\"2\",\"lr\":\"0.001\",\"test-batch-size\":\"100\"},\"input_config_dir\":\"/opt/ml/input/config\",\"input_data_config\":{},\"input_dir\":\"/opt/ml/input\",\"is_master\":true,\"job_name\":\"sagemaker-script-mode-2021-11-30-22-01-46-262\",\"log_level\":20,\"master_hostname\":\"algo-1\",\"model_dir\":\"/opt/ml/model\",\"module_dir\":\"s3://sagemaker-us-east-1-678049007427/sagemaker-script-mode-2021-11-30-22-01-46-262/source/sourcedir.tar.gz\",\"module_name\":\"pytorch_cifar\",\"network_interface_name\":\"eth0\",\"num_cpus\":2,\"num_gpus\":0,\"output_data_dir\":\"/opt/ml/output/data\",\"output_dir\":\"/opt/ml/output\",\"output_intermediate_dir\":\"/opt/ml/output/intermediate\",\"resource_config\":{\"current_host\":\"algo-1\",\"hosts\":[\"algo-1\"],\"network_interface_name\":\"eth0\"},\"user_entry_point\":\"pytorch_cifar.py\"}\u001b[0m\n",
      "\u001b[34mSM_USER_ARGS=[\"--batch-size\",\"32\",\"--epochs\",\"2\",\"--lr\",\"0.001\",\"--test-batch-size\",\"100\"]\u001b[0m\n",
      "\u001b[34mSM_OUTPUT_INTERMEDIATE_DIR=/opt/ml/output/intermediate\u001b[0m\n",
      "\u001b[34mSM_HP_BATCH-SIZE=32\u001b[0m\n",
      "\u001b[34mSM_HP_TEST-BATCH-SIZE=100\u001b[0m\n",
      "\u001b[34mSM_HP_LR=0.001\u001b[0m\n",
      "\u001b[34mSM_HP_EPOCHS=2\u001b[0m\n",
      "\u001b[34mPYTHONPATH=/opt/ml/code:/opt/conda/bin:/opt/conda/lib/python36.zip:/opt/conda/lib/python3.6:/opt/conda/lib/python3.6/lib-dynload:/opt/conda/lib/python3.6/site-packages\u001b[0m\n",
      "\u001b[34mInvoking script with the following command:\u001b[0m\n",
      "\u001b[34m/opt/conda/bin/python3.6 pytorch_cifar.py --batch-size 32 --epochs 2 --lr 0.001 --test-batch-size 100\u001b[0m\n",
      "\u001b[34mDownloading https://www.cs.toronto.edu/~kriz/cifar-10-python.tar.gz to ../data/cifar-10-python.tar.gz\u001b[0m\n",
      "\u001b[34mExtracting ../data/cifar-10-python.tar.gz to ../data\u001b[0m\n",
      "\u001b[34m[2021-11-30 22:06:32.697 algo-1:29 INFO utils.py:27] RULE_JOB_STOP_SIGNAL_FILENAME: None\u001b[0m\n",
      "\u001b[34m[2021-11-30 22:06:33.023 algo-1:29 INFO profiler_config_parser.py:102] User has disabled profiler.\u001b[0m\n",
      "\u001b[34m[2021-11-30 22:06:33.024 algo-1:29 INFO json_config.py:91] Creating hook from json_config at /opt/ml/input/config/debughookconfig.json.\u001b[0m\n",
      "\u001b[34m[2021-11-30 22:06:33.024 algo-1:29 INFO hook.py:201] tensorboard_dir has not been set for the hook. SMDebug will not be exporting tensorboard summaries.\u001b[0m\n",
      "\u001b[34m[2021-11-30 22:06:33.025 algo-1:29 INFO hook.py:255] Saving to /opt/ml/output/tensors\u001b[0m\n",
      "\u001b[34m[2021-11-30 22:06:33.025 algo-1:29 INFO state_store.py:77] The checkpoint config file /opt/ml/input/config/checkpointconfig.json does not exist.\u001b[0m\n",
      "\u001b[34m[2021-11-30 22:06:33.039 algo-1:29 INFO hook.py:591] name:conv1.weight count_params:864\u001b[0m\n",
      "\u001b[34m[2021-11-30 22:06:33.039 algo-1:29 INFO hook.py:591] name:conv1.bias count_params:32\u001b[0m\n",
      "\u001b[34m[2021-11-30 22:06:33.039 algo-1:29 INFO hook.py:591] name:conv2.weight count_params:18432\u001b[0m\n",
      "\u001b[34m[2021-11-30 22:06:33.039 algo-1:29 INFO hook.py:591] name:conv2.bias count_params:64\u001b[0m\n",
      "\u001b[34m[2021-11-30 22:06:33.039 algo-1:29 INFO hook.py:591] name:fc1.weight count_params:1605632\u001b[0m\n",
      "\u001b[34m[2021-11-30 22:06:33.040 algo-1:29 INFO hook.py:591] name:fc1.bias count_params:128\u001b[0m\n",
      "\u001b[34m[2021-11-30 22:06:33.040 algo-1:29 INFO hook.py:591] name:fc2.weight count_params:1280\u001b[0m\n",
      "\u001b[34m[2021-11-30 22:06:33.040 algo-1:29 INFO hook.py:591] name:fc2.bias count_params:10\u001b[0m\n",
      "\u001b[34m[2021-11-30 22:06:33.040 algo-1:29 INFO hook.py:593] Total Trainable Params: 1626442\u001b[0m\n",
      "\u001b[34m[2021-11-30 22:06:33.040 algo-1:29 INFO hook.py:425] Monitoring the collections: losses\u001b[0m\n",
      "\u001b[34m[2021-11-30 22:06:33.043 algo-1:29 INFO hook.py:488] Hook is writing from the hook with pid: 29\u001b[0m\n",
      "\u001b[34mTrain Epoch: 1 [0/50000 (0%)]#011Loss: 2.293003\u001b[0m\n",
      "\n",
      "2021-11-30 22:06:36 Training - Training image download completed. Training in progress.\u001b[34mTrain Epoch: 1 [3200/50000 (6%)]#011Loss: 2.294566\u001b[0m\n",
      "\u001b[34mTrain Epoch: 1 [6400/50000 (13%)]#011Loss: 2.309864\u001b[0m\n",
      "\u001b[34mTrain Epoch: 1 [9600/50000 (19%)]#011Loss: 2.311754\u001b[0m\n",
      "\u001b[34mTrain Epoch: 1 [12800/50000 (26%)]#011Loss: 2.305919\u001b[0m\n",
      "\u001b[34mTrain Epoch: 1 [16000/50000 (32%)]#011Loss: 2.307670\u001b[0m\n",
      "\u001b[34mTrain Epoch: 1 [19200/50000 (38%)]#011Loss: 2.306420\u001b[0m\n",
      "\u001b[34mTrain Epoch: 1 [22400/50000 (45%)]#011Loss: 2.304439\u001b[0m\n",
      "\u001b[34mTrain Epoch: 1 [25600/50000 (51%)]#011Loss: 2.297923\u001b[0m\n",
      "\u001b[34mTrain Epoch: 1 [28800/50000 (58%)]#011Loss: 2.301640\u001b[0m\n",
      "\u001b[34mTrain Epoch: 1 [32000/50000 (64%)]#011Loss: 2.280437\u001b[0m\n",
      "\u001b[34mTrain Epoch: 1 [35200/50000 (70%)]#011Loss: 2.303682\u001b[0m\n",
      "\u001b[34mTrain Epoch: 1 [38400/50000 (77%)]#011Loss: 2.296785\u001b[0m\n",
      "\u001b[34mTrain Epoch: 1 [41600/50000 (83%)]#011Loss: 2.288466\u001b[0m\n",
      "\u001b[34mTrain Epoch: 1 [44800/50000 (90%)]#011Loss: 2.287139\u001b[0m\n",
      "\u001b[34mTrain Epoch: 1 [48000/50000 (96%)]#011Loss: 2.307744\u001b[0m\n",
      "\u001b[34mTest set: Average loss: 2.2937, Accuracy: 1465/10000 (15%)\u001b[0m\n",
      "\u001b[34mTrain Epoch: 2 [0/50000 (0%)]#011Loss: 2.296760\u001b[0m\n",
      "\u001b[34mTrain Epoch: 2 [3200/50000 (6%)]#011Loss: 2.289191\u001b[0m\n",
      "\u001b[34mTrain Epoch: 2 [6400/50000 (13%)]#011Loss: 2.299883\u001b[0m\n",
      "\u001b[34mTrain Epoch: 2 [9600/50000 (19%)]#011Loss: 2.297713\u001b[0m\n",
      "\u001b[34mTrain Epoch: 2 [12800/50000 (26%)]#011Loss: 2.283971\u001b[0m\n",
      "\u001b[34mTrain Epoch: 2 [16000/50000 (32%)]#011Loss: 2.300923\u001b[0m\n",
      "\u001b[34mTrain Epoch: 2 [19200/50000 (38%)]#011Loss: 2.291993\u001b[0m\n",
      "\u001b[34mTrain Epoch: 2 [22400/50000 (45%)]#011Loss: 2.278826\u001b[0m\n",
      "\u001b[34mTrain Epoch: 2 [25600/50000 (51%)]#011Loss: 2.263078\u001b[0m\n",
      "\u001b[34mTrain Epoch: 2 [28800/50000 (58%)]#011Loss: 2.292697\u001b[0m\n",
      "\u001b[34mTrain Epoch: 2 [32000/50000 (64%)]#011Loss: 2.285890\u001b[0m\n",
      "\u001b[34mTrain Epoch: 2 [35200/50000 (70%)]#011Loss: 2.279219\u001b[0m\n",
      "\u001b[34mTrain Epoch: 2 [38400/50000 (77%)]#011Loss: 2.289507\u001b[0m\n",
      "\u001b[34mTrain Epoch: 2 [41600/50000 (83%)]#011Loss: 2.279209\u001b[0m\n",
      "\u001b[34mTrain Epoch: 2 [44800/50000 (90%)]#011Loss: 2.277315\u001b[0m\n",
      "\u001b[34mTrain Epoch: 2 [48000/50000 (96%)]#011Loss: 2.263775\u001b[0m\n",
      "\u001b[34mTest set: Average loss: 2.2776, Accuracy: 1626/10000 (16%)\u001b[0m\n",
      "\u001b[34m#015  0%|          | 0/170498071 [00:00<?, ?it/s]#015  0%|          | 672768/170498071 [00:00<00:25, 6696473.57it/s]#015  3%|▎         | 5178368/170498071 [00:00<00:05, 28966073.06it/s]#015  6%|▋         | 11048960/170498071 [00:00<00:03, 42467954.36it/s]#015 10%|█         | 17286144/170498071 [00:00<00:03, 50196090.52it/s]#015 14%|█▍        | 23641088/170498071 [00:00<00:02, 54994382.00it/s]#015 18%|█▊        | 29842432/170498071 [00:00<00:02, 57374994.20it/s]#015 21%|██        | 36029440/170498071 [00:00<00:02, 58830481.56it/s]#015 25%|██▍       | 42402816/170498071 [00:00<00:02, 60277170.05it/s]#015 29%|██▊       | 48661504/170498071 [00:00<00:01, 60937298.78it/s]#015 32%|███▏      | 54838272/170498071 [00:01<00:01, 61149198.61it/s]#015 36%|███▌      | 61096960/170498071 [00:01<00:01, 61581620.17it/s]#015 40%|███▉      | 67912704/170498071 [00:01<00:01, 63480492.26it/s]#015 44%|████▎     | 74261504/170498071 [00:01<00:01, 62860323.55it/s]#015 47%|████▋     | 80675840/170498071 [00:01<00:01, 63239913.09it/s]#015 51%|█████     | 87273472/170498071 [00:01<00:01, 64059460.63it/s]#015 55%|█████▍    | 93681664/170498071 [00:01<00:01, 63702495.95it/s]#015 59%|█████▉    | 101362688/170498071 [00:01<00:01, 67616788.35it/s]#015 64%|██████▍   | 109413376/170498071 [00:01<00:00, 71447017.64it/s]#015 68%|██████▊   | 116562944/170498071 [00:01<00:00, 67792371.02it/s]#015 72%|███████▏  | 123383808/170498071 [00:02<00:00, 66540830.01it/s]#015 76%|███████▋  | 130068480/170498071 [00:02<00:00, 65681520.68it/s]#015 80%|████████  | 136676352/170498071 [00:02<00:00, 65761117.55it/s]#015 84%|████████▍ | 143330304/170498071 [00:02<00:00, 65987859.68it/s]#015 88%|████████▊ | 149940224/170498071 [00:02<00:00, 65428235.12it/s]#015 92%|█████████▏| 156500992/170498071 [00:02<00:00, 65473752.95it/s]#015 96%|█████████▌| 163054592/170498071 [00:02<00:00, 65397609.22it/s]#015170499072it [00:02, 62974277.67it/s]                               \u001b[0m\n",
      "\u001b[34m2021-11-30 22:10:31,230 sagemaker-training-toolkit INFO     Reporting training SUCCESS\u001b[0m\n",
      "\n",
      "2021-11-30 22:11:37 Uploading - Uploading generated training model\n",
      "2021-11-30 22:11:37 Completed - Training job completed\n",
      "Training seconds: 376\n",
      "Billable seconds: 376\n"
     ]
    }
   ],
   "source": [
    "estimator.fit(wait=True)"
   ]
  },
  {
   "cell_type": "code",
   "execution_count": 25,
   "metadata": {},
   "outputs": [
    {
     "data": {
      "text/plain": [
       "'sagemaker-script-mode'"
      ]
     },
     "execution_count": 25,
     "metadata": {},
     "output_type": "execute_result"
    }
   ],
   "source": [
    "estimator.base_job_name"
   ]
  },
  {
   "cell_type": "code",
   "execution_count": 26,
   "metadata": {},
   "outputs": [
    {
     "data": {
      "text/plain": [
       "{'epochs': '\"2\"',\n",
       " 'batch-size': '\"32\"',\n",
       " 'test-batch-size': '\"100\"',\n",
       " 'lr': '\"0.001\"',\n",
       " 'sagemaker_submit_directory': '\"s3://sagemaker-us-east-1-678049007427/sagemaker-script-mode-2021-11-30-22-01-46-262/source/sourcedir.tar.gz\"',\n",
       " 'sagemaker_program': '\"pytorch_cifar.py\"',\n",
       " 'sagemaker_container_log_level': '20',\n",
       " 'sagemaker_job_name': '\"sagemaker-script-mode-2021-11-30-22-01-46-262\"',\n",
       " 'sagemaker_region': '\"us-east-1\"'}"
      ]
     },
     "execution_count": 26,
     "metadata": {},
     "output_type": "execute_result"
    }
   ],
   "source": [
    "estimator.hyperparameters()"
   ]
  },
  {
   "cell_type": "code",
   "execution_count": null,
   "metadata": {},
   "outputs": [],
   "source": []
  }
 ],
 "metadata": {
  "instance_type": "ml.t3.medium",
  "kernelspec": {
   "display_name": "Python 3 (Data Science)",
   "language": "python",
   "name": "python3__SAGEMAKER_INTERNAL__arn:aws:sagemaker:us-east-1:081325390199:image/datascience-1.0"
  },
  "language_info": {
   "codemirror_mode": {
    "name": "ipython",
    "version": 3
   },
   "file_extension": ".py",
   "mimetype": "text/x-python",
   "name": "python",
   "nbconvert_exporter": "python",
   "pygments_lexer": "ipython3",
   "version": "3.7.10"
  }
 },
 "nbformat": 4,
 "nbformat_minor": 4
}
